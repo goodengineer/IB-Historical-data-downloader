{
 "cells": [
  {
   "cell_type": "code",
   "execution_count": 52,
   "metadata": {},
   "outputs": [
    {
     "name": "stdout",
     "output_type": "stream",
     "text": [
      "current date :  2020-02-01 07:18:59.853516\n",
      "last thursday of this month :  2020-02-27 07:18:59.853516\n",
      "next last thursday of the month :  2020-03-26 07:18:59.853516\n"
     ]
    }
   ],
   "source": [
    "from datetime import datetime,timedelta\n",
    "\n",
    "def lastThurs(dt):\n",
    "    currDate, currMth, currYr = dt, dt.month, dt.year\n",
    "    for i in range(31):\n",
    "        if currDate.month == currMth and currDate.year == currYr and currDate.weekday() == 3:\n",
    "            #print('dt:'+ str(currDate))\n",
    "            lastThuDate = currDate\n",
    "            \n",
    "        currDate += timedelta(1)\n",
    "        \n",
    "    return lastThuDate\n",
    "def nextlastThurs(currentdate,lastdate):\n",
    "    b=lastdate.day\n",
    "    b=31-b\n",
    "    for i in range(b+1):\n",
    "        lastdate+=timedelta(1)\n",
    "    result=lastThurs(lastdate)\n",
    "    return result\n",
    "            \n",
    "        \n",
    "    \n",
    "# driver code \n",
    "dt = datetime.today()\n",
    "print('current date : ', dt)\n",
    "print(\"last thursday of this month : \",lastThurs(dt))\n",
    "print(\"next last thursday of the month : \",nextlastThurs(dt,lastThurs(dt)))\n"
   ]
  },
  {
   "cell_type": "code",
   "execution_count": null,
   "metadata": {},
   "outputs": [],
   "source": []
  }
 ],
 "metadata": {
  "kernelspec": {
   "display_name": "Python 3",
   "language": "python",
   "name": "python3"
  },
  "language_info": {
   "codemirror_mode": {
    "name": "ipython",
    "version": 3
   },
   "file_extension": ".py",
   "mimetype": "text/x-python",
   "name": "python",
   "nbconvert_exporter": "python",
   "pygments_lexer": "ipython3",
   "version": "3.7.3"
  }
 },
 "nbformat": 4,
 "nbformat_minor": 2
}
